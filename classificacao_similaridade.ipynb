{
  "nbformat": 4,
  "nbformat_minor": 0,
  "metadata": {
    "colab": {
      "provenance": [],
      "gpuType": "T4",
      "authorship_tag": "ABX9TyPjuFLG6053/1kV9dvRog5u",
      "include_colab_link": true
    },
    "kernelspec": {
      "name": "python3",
      "display_name": "Python 3"
    },
    "language_info": {
      "name": "python"
    },
    "accelerator": "GPU"
  },
  "cells": [
    {
      "cell_type": "markdown",
      "metadata": {
        "id": "view-in-github",
        "colab_type": "text"
      },
      "source": [
        "<a href=\"https://colab.research.google.com/github/joaoAngelo2/similaridade/blob/main/classificacao_similaridade.ipynb\" target=\"_parent\"><img src=\"https://colab.research.google.com/assets/colab-badge.svg\" alt=\"Open In Colab\"/></a>"
      ]
    },
    {
      "cell_type": "code",
      "source": [
        "import os\n",
        "import random\n",
        "from time import time\n",
        "\n",
        "import numpy as np\n",
        "from IPython.display import Markdown, display\n",
        "from matplotlib import pyplot as plt\n",
        "\n",
        "os.environ[\"TF_CPP_MIN_LOG_LEVEL\"] = \"2\""
      ],
      "metadata": {
        "id": "ewDIHdrFem7D"
      },
      "execution_count": 1,
      "outputs": []
    },
    {
      "cell_type": "code",
      "source": [
        "import tensorflow as tf\n",
        "\n",
        "try:\n",
        "    import tensorflow_similarity as tfsim\n",
        "except ModuleNotFoundError:\n",
        "    !pip install tensorflow_similarity\n",
        "    import tensorflow_similarity as tfsim"
      ],
      "metadata": {
        "colab": {
          "base_uri": "https://localhost:8080/",
          "height": 1000
        },
        "id": "Y-xUU6K2epcP",
        "outputId": "ff7c644d-82ff-4a92-884d-12864f9b6e48"
      },
      "execution_count": 2,
      "outputs": [
        {
          "output_type": "stream",
          "name": "stdout",
          "text": [
            "Collecting tensorflow_similarity\n",
            "  Downloading tensorflow_similarity-0.17.1-py3-none-any.whl.metadata (9.5 kB)\n",
            "Collecting distinctipy (from tensorflow_similarity)\n",
            "  Downloading distinctipy-1.3.4-py3-none-any.whl.metadata (7.7 kB)\n",
            "Collecting nmslib (from tensorflow_similarity)\n",
            "  Downloading nmslib-2.1.1.tar.gz (188 kB)\n",
            "\u001b[2K     \u001b[90m━━━━━━━━━━━━━━━━━━━━━━━━━━━━━━━━━━━━━━━━\u001b[0m \u001b[32m188.7/188.7 kB\u001b[0m \u001b[31m16.2 MB/s\u001b[0m eta \u001b[36m0:00:00\u001b[0m\n",
            "\u001b[?25h  Preparing metadata (setup.py) ... \u001b[?25l\u001b[?25hdone\n",
            "Requirement already satisfied: matplotlib in /usr/local/lib/python3.11/dist-packages (from tensorflow_similarity) (3.10.0)\n",
            "Requirement already satisfied: numpy in /usr/local/lib/python3.11/dist-packages (from tensorflow_similarity) (1.26.4)\n",
            "Requirement already satisfied: pandas in /usr/local/lib/python3.11/dist-packages (from tensorflow_similarity) (2.2.2)\n",
            "Requirement already satisfied: Pillow in /usr/local/lib/python3.11/dist-packages (from tensorflow_similarity) (11.1.0)\n",
            "Requirement already satisfied: tabulate in /usr/local/lib/python3.11/dist-packages (from tensorflow_similarity) (0.9.0)\n",
            "Requirement already satisfied: tensorflow-datasets>=4.2 in /usr/local/lib/python3.11/dist-packages (from tensorflow_similarity) (4.9.7)\n",
            "Requirement already satisfied: tqdm in /usr/local/lib/python3.11/dist-packages (from tensorflow_similarity) (4.67.1)\n",
            "Requirement already satisfied: bokeh in /usr/local/lib/python3.11/dist-packages (from tensorflow_similarity) (3.6.3)\n",
            "Collecting umap-learn (from tensorflow_similarity)\n",
            "  Downloading umap_learn-0.5.7-py3-none-any.whl.metadata (21 kB)\n",
            "Requirement already satisfied: absl-py in /usr/local/lib/python3.11/dist-packages (from tensorflow-datasets>=4.2->tensorflow_similarity) (1.4.0)\n",
            "Requirement already satisfied: click in /usr/local/lib/python3.11/dist-packages (from tensorflow-datasets>=4.2->tensorflow_similarity) (8.1.8)\n",
            "Requirement already satisfied: dm-tree in /usr/local/lib/python3.11/dist-packages (from tensorflow-datasets>=4.2->tensorflow_similarity) (0.1.9)\n",
            "Requirement already satisfied: immutabledict in /usr/local/lib/python3.11/dist-packages (from tensorflow-datasets>=4.2->tensorflow_similarity) (4.2.1)\n",
            "Requirement already satisfied: promise in /usr/local/lib/python3.11/dist-packages (from tensorflow-datasets>=4.2->tensorflow_similarity) (2.3)\n",
            "Requirement already satisfied: protobuf>=3.20 in /usr/local/lib/python3.11/dist-packages (from tensorflow-datasets>=4.2->tensorflow_similarity) (4.25.6)\n",
            "Requirement already satisfied: psutil in /usr/local/lib/python3.11/dist-packages (from tensorflow-datasets>=4.2->tensorflow_similarity) (5.9.5)\n",
            "Requirement already satisfied: pyarrow in /usr/local/lib/python3.11/dist-packages (from tensorflow-datasets>=4.2->tensorflow_similarity) (17.0.0)\n",
            "Requirement already satisfied: requests>=2.19.0 in /usr/local/lib/python3.11/dist-packages (from tensorflow-datasets>=4.2->tensorflow_similarity) (2.32.3)\n",
            "Requirement already satisfied: simple-parsing in /usr/local/lib/python3.11/dist-packages (from tensorflow-datasets>=4.2->tensorflow_similarity) (0.1.7)\n",
            "Requirement already satisfied: tensorflow-metadata in /usr/local/lib/python3.11/dist-packages (from tensorflow-datasets>=4.2->tensorflow_similarity) (1.16.1)\n",
            "Requirement already satisfied: termcolor in /usr/local/lib/python3.11/dist-packages (from tensorflow-datasets>=4.2->tensorflow_similarity) (2.5.0)\n",
            "Requirement already satisfied: toml in /usr/local/lib/python3.11/dist-packages (from tensorflow-datasets>=4.2->tensorflow_similarity) (0.10.2)\n",
            "Requirement already satisfied: wrapt in /usr/local/lib/python3.11/dist-packages (from tensorflow-datasets>=4.2->tensorflow_similarity) (1.17.2)\n",
            "Requirement already satisfied: array-record>=0.5.0 in /usr/local/lib/python3.11/dist-packages (from tensorflow-datasets>=4.2->tensorflow_similarity) (0.6.0)\n",
            "Requirement already satisfied: etils>=1.9.1 in /usr/local/lib/python3.11/dist-packages (from etils[edc,enp,epath,epy,etree]>=1.9.1; python_version >= \"3.11\"->tensorflow-datasets>=4.2->tensorflow_similarity) (1.12.0)\n",
            "Requirement already satisfied: Jinja2>=2.9 in /usr/local/lib/python3.11/dist-packages (from bokeh->tensorflow_similarity) (3.1.5)\n",
            "Requirement already satisfied: contourpy>=1.2 in /usr/local/lib/python3.11/dist-packages (from bokeh->tensorflow_similarity) (1.3.1)\n",
            "Requirement already satisfied: packaging>=16.8 in /usr/local/lib/python3.11/dist-packages (from bokeh->tensorflow_similarity) (24.2)\n",
            "Requirement already satisfied: PyYAML>=3.10 in /usr/local/lib/python3.11/dist-packages (from bokeh->tensorflow_similarity) (6.0.2)\n",
            "Requirement already satisfied: tornado>=6.2 in /usr/local/lib/python3.11/dist-packages (from bokeh->tensorflow_similarity) (6.4.2)\n",
            "Requirement already satisfied: xyzservices>=2021.09.1 in /usr/local/lib/python3.11/dist-packages (from bokeh->tensorflow_similarity) (2025.1.0)\n",
            "Requirement already satisfied: python-dateutil>=2.8.2 in /usr/local/lib/python3.11/dist-packages (from pandas->tensorflow_similarity) (2.8.2)\n",
            "Requirement already satisfied: pytz>=2020.1 in /usr/local/lib/python3.11/dist-packages (from pandas->tensorflow_similarity) (2025.1)\n",
            "Requirement already satisfied: tzdata>=2022.7 in /usr/local/lib/python3.11/dist-packages (from pandas->tensorflow_similarity) (2025.1)\n",
            "Requirement already satisfied: cycler>=0.10 in /usr/local/lib/python3.11/dist-packages (from matplotlib->tensorflow_similarity) (0.12.1)\n",
            "Requirement already satisfied: fonttools>=4.22.0 in /usr/local/lib/python3.11/dist-packages (from matplotlib->tensorflow_similarity) (4.56.0)\n",
            "Requirement already satisfied: kiwisolver>=1.3.1 in /usr/local/lib/python3.11/dist-packages (from matplotlib->tensorflow_similarity) (1.4.8)\n",
            "Requirement already satisfied: pyparsing>=2.3.1 in /usr/local/lib/python3.11/dist-packages (from matplotlib->tensorflow_similarity) (3.2.1)\n",
            "Collecting pybind11<2.6.2 (from nmslib->tensorflow_similarity)\n",
            "  Using cached pybind11-2.6.1-py2.py3-none-any.whl.metadata (8.7 kB)\n",
            "Requirement already satisfied: scipy>=1.3.1 in /usr/local/lib/python3.11/dist-packages (from umap-learn->tensorflow_similarity) (1.13.1)\n",
            "Requirement already satisfied: scikit-learn>=0.22 in /usr/local/lib/python3.11/dist-packages (from umap-learn->tensorflow_similarity) (1.6.1)\n",
            "Requirement already satisfied: numba>=0.51.2 in /usr/local/lib/python3.11/dist-packages (from umap-learn->tensorflow_similarity) (0.61.0)\n",
            "Collecting pynndescent>=0.5 (from umap-learn->tensorflow_similarity)\n",
            "  Downloading pynndescent-0.5.13-py3-none-any.whl.metadata (6.8 kB)\n",
            "Requirement already satisfied: fsspec in /usr/local/lib/python3.11/dist-packages (from etils[edc,enp,epath,epy,etree]>=1.9.1; python_version >= \"3.11\"->tensorflow-datasets>=4.2->tensorflow_similarity) (2024.10.0)\n",
            "Requirement already satisfied: importlib_resources in /usr/local/lib/python3.11/dist-packages (from etils[edc,enp,epath,epy,etree]>=1.9.1; python_version >= \"3.11\"->tensorflow-datasets>=4.2->tensorflow_similarity) (6.5.2)\n",
            "Requirement already satisfied: typing_extensions in /usr/local/lib/python3.11/dist-packages (from etils[edc,enp,epath,epy,etree]>=1.9.1; python_version >= \"3.11\"->tensorflow-datasets>=4.2->tensorflow_similarity) (4.12.2)\n",
            "Requirement already satisfied: zipp in /usr/local/lib/python3.11/dist-packages (from etils[edc,enp,epath,epy,etree]>=1.9.1; python_version >= \"3.11\"->tensorflow-datasets>=4.2->tensorflow_similarity) (3.21.0)\n",
            "Requirement already satisfied: MarkupSafe>=2.0 in /usr/local/lib/python3.11/dist-packages (from Jinja2>=2.9->bokeh->tensorflow_similarity) (3.0.2)\n",
            "Requirement already satisfied: llvmlite<0.45,>=0.44.0dev0 in /usr/local/lib/python3.11/dist-packages (from numba>=0.51.2->umap-learn->tensorflow_similarity) (0.44.0)\n",
            "Requirement already satisfied: joblib>=0.11 in /usr/local/lib/python3.11/dist-packages (from pynndescent>=0.5->umap-learn->tensorflow_similarity) (1.4.2)\n",
            "Requirement already satisfied: six>=1.5 in /usr/local/lib/python3.11/dist-packages (from python-dateutil>=2.8.2->pandas->tensorflow_similarity) (1.17.0)\n",
            "Requirement already satisfied: charset-normalizer<4,>=2 in /usr/local/lib/python3.11/dist-packages (from requests>=2.19.0->tensorflow-datasets>=4.2->tensorflow_similarity) (3.4.1)\n",
            "Requirement already satisfied: idna<4,>=2.5 in /usr/local/lib/python3.11/dist-packages (from requests>=2.19.0->tensorflow-datasets>=4.2->tensorflow_similarity) (3.10)\n",
            "Requirement already satisfied: urllib3<3,>=1.21.1 in /usr/local/lib/python3.11/dist-packages (from requests>=2.19.0->tensorflow-datasets>=4.2->tensorflow_similarity) (2.3.0)\n",
            "Requirement already satisfied: certifi>=2017.4.17 in /usr/local/lib/python3.11/dist-packages (from requests>=2.19.0->tensorflow-datasets>=4.2->tensorflow_similarity) (2025.1.31)\n",
            "Requirement already satisfied: threadpoolctl>=3.1.0 in /usr/local/lib/python3.11/dist-packages (from scikit-learn>=0.22->umap-learn->tensorflow_similarity) (3.5.0)\n",
            "Requirement already satisfied: attrs>=18.2.0 in /usr/local/lib/python3.11/dist-packages (from dm-tree->tensorflow-datasets>=4.2->tensorflow_similarity) (25.1.0)\n",
            "Requirement already satisfied: docstring-parser<1.0,>=0.15 in /usr/local/lib/python3.11/dist-packages (from simple-parsing->tensorflow-datasets>=4.2->tensorflow_similarity) (0.16)\n",
            "Requirement already satisfied: googleapis-common-protos<2,>=1.56.4 in /usr/local/lib/python3.11/dist-packages (from tensorflow-metadata->tensorflow-datasets>=4.2->tensorflow_similarity) (1.67.0)\n",
            "Downloading tensorflow_similarity-0.17.1-py3-none-any.whl (230 kB)\n",
            "\u001b[2K   \u001b[90m━━━━━━━━━━━━━━━━━━━━━━━━━━━━━━━━━━━━━━━━\u001b[0m \u001b[32m230.4/230.4 kB\u001b[0m \u001b[31m18.5 MB/s\u001b[0m eta \u001b[36m0:00:00\u001b[0m\n",
            "\u001b[?25hDownloading distinctipy-1.3.4-py3-none-any.whl (26 kB)\n",
            "Downloading umap_learn-0.5.7-py3-none-any.whl (88 kB)\n",
            "\u001b[2K   \u001b[90m━━━━━━━━━━━━━━━━━━━━━━━━━━━━━━━━━━━━━━━━\u001b[0m \u001b[32m88.8/88.8 kB\u001b[0m \u001b[31m9.3 MB/s\u001b[0m eta \u001b[36m0:00:00\u001b[0m\n",
            "\u001b[?25hUsing cached pybind11-2.6.1-py2.py3-none-any.whl (188 kB)\n",
            "Downloading pynndescent-0.5.13-py3-none-any.whl (56 kB)\n",
            "\u001b[2K   \u001b[90m━━━━━━━━━━━━━━━━━━━━━━━━━━━━━━━━━━━━━━━━\u001b[0m \u001b[32m56.9/56.9 kB\u001b[0m \u001b[31m5.5 MB/s\u001b[0m eta \u001b[36m0:00:00\u001b[0m\n",
            "\u001b[?25hBuilding wheels for collected packages: nmslib\n",
            "  Building wheel for nmslib (setup.py) ... \u001b[?25l\u001b[?25hcanceled\n",
            "\u001b[31mERROR: Operation cancelled by user\u001b[0m\u001b[31m\n",
            "\u001b[0m"
          ]
        },
        {
          "output_type": "error",
          "ename": "ModuleNotFoundError",
          "evalue": "No module named 'tensorflow_similarity'",
          "traceback": [
            "\u001b[0;31m---------------------------------------------------------------------------\u001b[0m",
            "\u001b[0;31mModuleNotFoundError\u001b[0m                       Traceback (most recent call last)",
            "\u001b[0;32m<ipython-input-2-52f87d0693f5>\u001b[0m in \u001b[0;36m<cell line: 0>\u001b[0;34m()\u001b[0m\n\u001b[1;32m      3\u001b[0m \u001b[0;32mtry\u001b[0m\u001b[0;34m:\u001b[0m\u001b[0;34m\u001b[0m\u001b[0;34m\u001b[0m\u001b[0m\n\u001b[0;32m----> 4\u001b[0;31m     \u001b[0;32mimport\u001b[0m \u001b[0mtensorflow_similarity\u001b[0m \u001b[0;32mas\u001b[0m \u001b[0mtfsim\u001b[0m\u001b[0;34m\u001b[0m\u001b[0;34m\u001b[0m\u001b[0m\n\u001b[0m\u001b[1;32m      5\u001b[0m \u001b[0;32mexcept\u001b[0m \u001b[0mModuleNotFoundError\u001b[0m\u001b[0;34m:\u001b[0m\u001b[0;34m\u001b[0m\u001b[0;34m\u001b[0m\u001b[0m\n",
            "\u001b[0;31mModuleNotFoundError\u001b[0m: No module named 'tensorflow_similarity'",
            "\nDuring handling of the above exception, another exception occurred:\n",
            "\u001b[0;31mModuleNotFoundError\u001b[0m                       Traceback (most recent call last)",
            "\u001b[0;32m<ipython-input-2-52f87d0693f5>\u001b[0m in \u001b[0;36m<cell line: 0>\u001b[0;34m()\u001b[0m\n\u001b[1;32m      5\u001b[0m \u001b[0;32mexcept\u001b[0m \u001b[0mModuleNotFoundError\u001b[0m\u001b[0;34m:\u001b[0m\u001b[0;34m\u001b[0m\u001b[0;34m\u001b[0m\u001b[0m\n\u001b[1;32m      6\u001b[0m     \u001b[0mget_ipython\u001b[0m\u001b[0;34m(\u001b[0m\u001b[0;34m)\u001b[0m\u001b[0;34m.\u001b[0m\u001b[0msystem\u001b[0m\u001b[0;34m(\u001b[0m\u001b[0;34m'pip install tensorflow_similarity'\u001b[0m\u001b[0;34m)\u001b[0m\u001b[0;34m\u001b[0m\u001b[0;34m\u001b[0m\u001b[0m\n\u001b[0;32m----> 7\u001b[0;31m     \u001b[0;32mimport\u001b[0m \u001b[0mtensorflow_similarity\u001b[0m \u001b[0;32mas\u001b[0m \u001b[0mtfsim\u001b[0m\u001b[0;34m\u001b[0m\u001b[0;34m\u001b[0m\u001b[0m\n\u001b[0m",
            "\u001b[0;31mModuleNotFoundError\u001b[0m: No module named 'tensorflow_similarity'",
            "",
            "\u001b[0;31m---------------------------------------------------------------------------\u001b[0;32m\nNOTE: If your import is failing due to a missing package, you can\nmanually install dependencies using either !pip or !apt.\n\nTo view examples of installing some common dependencies, click the\n\"Open Examples\" button below.\n\u001b[0;31m---------------------------------------------------------------------------\u001b[0m\n"
          ],
          "errorDetails": {
            "actions": [
              {
                "action": "open_url",
                "actionText": "Open Examples",
                "url": "/notebooks/snippets/importing_libraries.ipynb"
              }
            ]
          }
        }
      ]
    },
    {
      "cell_type": "code",
      "source": [
        "IMG_SIZE = 300\n",
        "\n",
        "def resize(img, label):\n",
        "    with tf.device(\"/cpu:0\"):\n",
        "        img = tf.cast(img, dtype=\"int32\")\n",
        "        img = tf.image.resize_with_pad(img, IMG_SIZE, IMG_SIZE)\n",
        "        return img, label"
      ],
      "metadata": {
        "id": "3T2gGO-pewpu"
      },
      "execution_count": 3,
      "outputs": []
    },
    {
      "cell_type": "code",
      "source": [
        "training_classes = 16\n",
        "examples_per_class_per_batch = 4\n",
        "train_cls = random.sample(range(37), k=training_classes)\n",
        "classes_per_batch = max(16, training_classes)\n",
        "target_img_size = 224\n",
        "\n",
        "print(f\"Class IDs seen during training {train_cls}\")\n",
        "\n",
        "def img_augmentation(img_batch, y, *args):\n",
        "    batch_size = tf.shape(img_batch)[0]\n",
        "    img_batch = tf.image.random_crop(img_batch, (batch_size,target_img_size,target_img_size,3))\n",
        "    img_batch = tf.image.random_flip_left_right(img_batch)\n",
        "    return img_batch, y\n",
        "\n",
        "train_ds = tfsim.samplers.TFDatasetMultiShotMemorySampler(\n",
        "    \"oxford_iiit_pet\",\n",
        "    splits=\"train\",\n",
        "    examples_per_class_per_batch=examples_per_class_per_batch,\n",
        "    classes_per_batch=classes_per_batch,\n",
        "    preprocess_fn=resize,\n",
        "    class_list=train_cls,\n",
        "    augmenter=img_augmentation,\n",
        ")\n",
        "\n",
        "test_ds = tfsim.samplers.TFDatasetMultiShotMemorySampler(\n",
        "    \"oxford_iiit_pet\",\n",
        "    splits=\"test\",\n",
        "    total_examples_per_class=20,\n",
        "    classes_per_batch=classes_per_batch,\n",
        "    preprocess_fn=resize,\n",
        ")"
      ],
      "metadata": {
        "colab": {
          "base_uri": "https://localhost:8080/",
          "height": 248
        },
        "id": "PwsHgsvIfL1t",
        "outputId": "437833b6-b954-463c-ab1b-4ae9dce5cbcd"
      },
      "execution_count": 4,
      "outputs": [
        {
          "output_type": "stream",
          "name": "stdout",
          "text": [
            "Class IDs seen during training [20, 18, 34, 26, 7, 13, 33, 27, 5, 3, 10, 29, 11, 6, 9, 24]\n"
          ]
        },
        {
          "output_type": "error",
          "ename": "NameError",
          "evalue": "name 'tfsim' is not defined",
          "traceback": [
            "\u001b[0;31m---------------------------------------------------------------------------\u001b[0m",
            "\u001b[0;31mNameError\u001b[0m                                 Traceback (most recent call last)",
            "\u001b[0;32m<ipython-input-4-56b19c5579a8>\u001b[0m in \u001b[0;36m<cell line: 0>\u001b[0;34m()\u001b[0m\n\u001b[1;32m     13\u001b[0m     \u001b[0;32mreturn\u001b[0m \u001b[0mimg_batch\u001b[0m\u001b[0;34m,\u001b[0m \u001b[0my\u001b[0m\u001b[0;34m\u001b[0m\u001b[0;34m\u001b[0m\u001b[0m\n\u001b[1;32m     14\u001b[0m \u001b[0;34m\u001b[0m\u001b[0m\n\u001b[0;32m---> 15\u001b[0;31m train_ds = tfsim.samplers.TFDatasetMultiShotMemorySampler(\n\u001b[0m\u001b[1;32m     16\u001b[0m     \u001b[0;34m\"oxford_iiit_pet\"\u001b[0m\u001b[0;34m,\u001b[0m\u001b[0;34m\u001b[0m\u001b[0;34m\u001b[0m\u001b[0m\n\u001b[1;32m     17\u001b[0m     \u001b[0msplits\u001b[0m\u001b[0;34m=\u001b[0m\u001b[0;34m\"train\"\u001b[0m\u001b[0;34m,\u001b[0m\u001b[0;34m\u001b[0m\u001b[0;34m\u001b[0m\u001b[0m\n",
            "\u001b[0;31mNameError\u001b[0m: name 'tfsim' is not defined"
          ]
        }
      ]
    },
    {
      "cell_type": "code",
      "source": [
        "num_targets = 200\n",
        "num_queries = 300\n",
        "k = 3\n",
        "\n",
        "queries_x, queries_y = test_ds.get_slice(0, num_queries)\n",
        "targets_x, targets_y = test_ds.get_slice(num_queries, num_targets)\n",
        "tsc = tfsim.callbacks.EvalCallback(\n",
        "    queries_x,\n",
        "    queries_y,\n",
        "    targets_x,\n",
        "    targets_y,\n",
        "    metrics=[\"f1\"],\n",
        "    k=k,\n",
        ")\n",
        "\n",
        "val_loss = tfsim.callbacks.EvalCallback(\n",
        "    queries_x,\n",
        "    queries_y,\n",
        "    targets_x,\n",
        "    targets_y,\n",
        "    metrics=[\"binary_accuracy\"],\n",
        "    known_classes=tf.constant(train_cls),\n",
        "    k=k,\n",
        ")\n",
        "\n",
        "callbacks = [\n",
        "    val_loss,\n",
        "    tsc,\n",
        "]"
      ],
      "metadata": {
        "id": "3AtwXXeIfRw2"
      },
      "execution_count": null,
      "outputs": []
    },
    {
      "cell_type": "code",
      "source": [
        "embedding_size = 128\n",
        "\n",
        "model = tfsim.architectures.EfficientNetSim(\n",
        "    train_ds.example_shape,\n",
        "    embedding_size,\n",
        "    pooling=\"gem\",\n",
        "    gem_p=3.0,\n",
        ")"
      ],
      "metadata": {
        "id": "taLc8JWafVEU"
      },
      "execution_count": null,
      "outputs": []
    },
    {
      "cell_type": "code",
      "source": [
        "epochs = 5\n",
        "LR = 0.0001\n",
        "gamma = 256\n",
        "steps_per_epoch = 100\n",
        "val_steps = 50\n",
        "distance = \"cosine\"\n",
        "\n",
        "loss = tfsim.losses.CircleLoss(gamma=gamma)\n",
        "\n",
        "brute_force_search = tfsim.search.NMSLibSearch(\n",
        "    distance=distance,\n",
        "    dim=embedding_size,\n",
        "    method='brute_force',\n",
        ")\n",
        "\n",
        "model.compile(\n",
        "    optimizer=tf.keras.optimizers.Adam(LR),\n",
        "    loss=loss,\n",
        "    distance=distance,\n",
        "    search=brute_force_search,\n",
        ")\n",
        "history = model.fit(\n",
        "    train_ds,\n",
        "    epochs=epochs,\n",
        "    steps_per_epoch=steps_per_epoch,\n",
        "    validation_data=test_ds,\n",
        "    validation_steps=val_steps,\n",
        "    callbacks=callbacks,\n",
        ")"
      ],
      "metadata": {
        "id": "bXDNAdiyfYvb"
      },
      "execution_count": null,
      "outputs": []
    },
    {
      "cell_type": "code",
      "source": [
        "plt.plot(history.history[\"loss\"])\n",
        "plt.plot(history.history[\"val_loss\"])\n",
        "plt.legend([\"loss\", \"val_loss\"])\n",
        "plt.title(f\"Loss: {loss.name} - LR: {LR}\")\n",
        "plt.show()"
      ],
      "metadata": {
        "id": "5Rt9-H2rfy8a"
      },
      "execution_count": null,
      "outputs": []
    },
    {
      "cell_type": "code",
      "source": [
        "index_size = 360\n",
        "query_size = 360\n",
        "index_x, index_y = test_ds.get_slice(0, index_size)\n",
        "index_data = tf.cast(index_x, dtype=\"int32\")\n",
        "\n",
        "test_x, test_y = test_ds.get_slice(index_size, query_size)\n",
        "test_y = [int(c) for c in test_y]\n",
        "test_data = tf.cast(test_x, dtype=\"int32\")\n",
        "\n",
        "model.reset_index()\n",
        "model.index(index_x, index_y, data=index_data)"
      ],
      "metadata": {
        "id": "OlhWfkvJf1ya"
      },
      "execution_count": null,
      "outputs": []
    },
    {
      "cell_type": "code",
      "source": [
        "num_examples = 3\n",
        "num_neigboors = 5\n",
        "idxs = random.sample(range(len(test_y)), num_examples)\n",
        "batch = tf.gather(test_x, idxs)\n",
        "nns = model.lookup(batch, k=num_neigboors)\n",
        "for bid, nn in zip(idxs, nns):\n",
        "    if test_y[bid] in train_cls:\n",
        "        display(Markdown(\"**Known Class**\"))\n",
        "    else:\n",
        "        display(Markdown(\"**Unknown Class**\"))\n",
        "    tfsim.visualization.viz_neigbors_imgs(test_data[bid], test_y[bid], nn, class_mapping=breeds, cmap=\"Greys\")"
      ],
      "metadata": {
        "id": "HuMJkGBif7wX"
      },
      "execution_count": null,
      "outputs": []
    }
  ]
}